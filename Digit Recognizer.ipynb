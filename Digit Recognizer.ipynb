{
  "cells": [
    {
      "cell_type": "code",
      "execution_count": 33,
      "id": "adf1a8e7",
      "metadata": {
        "id": "adf1a8e7"
      },
      "outputs": [],
      "source": [
        "import numpy as np\n",
        "import pandas as pd\n",
        "import matplotlib.pyplot as plt\n",
        "import matplotlib.cm as cm\n",
        "from sklearn.neighbors import KNeighborsClassifier\n",
        "from sklearn.linear_model import LogisticRegression\n",
        "from sklearn.metrics import accuracy_score\n",
        "from sklearn.svm import SVC\n",
        "from sklearn.model_selection import train_test_split\n",
        "import tensorflow as tf\n",
        "from tensorflow.keras import layers, models, callbacks\n",
        "from catboost import CatBoostClassifier\n",
        "import warnings\n",
        "warnings.filterwarnings(\"ignore\")\n",
        "pd.set_option('display.max_columns', None)\n",
        "np.random.seed(42)\n",
        "tf.random.set_seed(42)"
      ]
    },
    {
      "cell_type": "code",
      "source": [
        "%cd /content/drive/My\\ Drive/"
      ],
      "metadata": {
        "colab": {
          "base_uri": "https://localhost:8080/"
        },
        "id": "wtdX1HP-cXm8",
        "outputId": "0387162b-bfb7-4443-88ec-64abcd697159"
      },
      "id": "wtdX1HP-cXm8",
      "execution_count": 18,
      "outputs": [
        {
          "output_type": "stream",
          "name": "stdout",
          "text": [
            "/content/drive/My Drive\n"
          ]
        }
      ]
    },
    {
      "cell_type": "code",
      "execution_count": 19,
      "id": "c1e11a97",
      "metadata": {
        "id": "c1e11a97"
      },
      "outputs": [],
      "source": [
        "df = pd.read_csv('train.csv')\n",
        "test = pd.read_csv('test.csv')"
      ]
    },
    {
      "cell_type": "code",
      "execution_count": 21,
      "id": "6dbc9466",
      "metadata": {
        "colab": {
          "base_uri": "https://localhost:8080/",
          "height": 155
        },
        "id": "6dbc9466",
        "outputId": "1e12ba01-c53a-4a13-adaf-ec4a838a3dfa"
      },
      "outputs": [
        {
          "output_type": "display_data",
          "data": {
            "text/plain": [
              "<Figure size 432x288 with 4 Axes>"
            ],
            "image/png": "[encoded data removed]"
          },
          "metadata": {
            "needs_background": "light"
          }
        }
      ],
      "source": [
        "fig, ax = plt.subplots(nrows=1, ncols=4)\n",
        "for i in range(4):\n",
        "    ax[i].set_title(\"Number {}\".format(df.loc[i][0]))\n",
        "    ax[i].imshow(np.array(df.loc[i][1:]).reshape(28,28),cmap='gray')\n",
        "    ax[i].axis('off')\n",
        "fig.tight_layout(pad=0.0)\n",
        "plt.show()"
      ]
    },
    {
      "cell_type": "markdown",
      "id": "cd67ebfa",
      "metadata": {
        "id": "cd67ebfa"
      },
      "source": [
        "# Baseline Model"
      ]
    },
    {
      "cell_type": "code",
      "source": [
        "train, dev = train_test_split(df,test_size = 0.2, random_state = 42)"
      ],
      "metadata": {
        "id": "EDMD-LLoHefD"
      },
      "id": "EDMD-LLoHefD",
      "execution_count": null,
      "outputs": []
    },
    {
      "cell_type": "code",
      "execution_count": 23,
      "id": "38bda7be",
      "metadata": {
        "colab": {
          "base_uri": "https://localhost:8080/"
        },
        "id": "38bda7be",
        "outputId": "b47bea4f-0719-4815-9d9d-7fe75eb1f719"
      },
      "outputs": [
        {
          "output_type": "stream",
          "name": "stdout",
          "text": [
            "Accuracy : 0.9183\n"
          ]
        }
      ],
      "source": [
        "logreg = LogisticRegression(multi_class='multinomial')\n",
        "logreg.fit(train.drop('label',axis=1),train.label)\n",
        "logreg_pred = logreg.predict(dev.drop('label',axis=1))\n",
        "print(\"Accuracy : {}\".format(round(accuracy_score(dev.label,logreg_pred),4)))"
      ]
    },
    {
      "cell_type": "code",
      "execution_count": 24,
      "id": "b3499cd3",
      "metadata": {
        "colab": {
          "base_uri": "https://localhost:8080/"
        },
        "id": "b3499cd3",
        "outputId": "19e7bd4c-793f-4a7f-e90a-cdf3e067291f"
      },
      "outputs": [
        {
          "output_type": "stream",
          "name": "stdout",
          "text": [
            "Accuracy : 0.9504\n"
          ]
        }
      ],
      "source": [
        "cat = CatBoostClassifier(loss_function='MultiClass',n_estimators = 100,verbose = 0)\n",
        "cat.fit(train.drop('label',axis=1),train.label, eval_set=(dev.drop('label',axis=1), dev.label))\n",
        "cat_pred = cat.predict(dev.drop('label',axis=1))\n",
        "print(\"Accuracy : {}\".format(round(accuracy_score(dev.label,cat_pred),4)))"
      ]
    },
    {
      "cell_type": "code",
      "execution_count": 25,
      "id": "c63836b1",
      "metadata": {
        "colab": {
          "base_uri": "https://localhost:8080/"
        },
        "id": "c63836b1",
        "outputId": "07a106eb-961a-4ebc-cb28-ef1c4aaf426c"
      },
      "outputs": [
        {
          "output_type": "stream",
          "name": "stdout",
          "text": [
            "Accuracy : 0.9687\n"
          ]
        }
      ],
      "source": [
        "knn = KNeighborsClassifier(n_neighbors = 1)\n",
        "knn.fit(train.drop('label',axis=1),train.label)\n",
        "knn_pred = knn.predict(dev.drop('label',axis=1))\n",
        "print(\"Accuracy : {}\".format(round(accuracy_score(dev.label,knn_pred),4)))"
      ]
    },
    {
      "cell_type": "code",
      "execution_count": 26,
      "id": "7d6be2f7",
      "metadata": {
        "id": "7d6be2f7",
        "colab": {
          "base_uri": "https://localhost:8080/"
        },
        "outputId": "6f72ede4-ee64-4e89-e7cd-e3ee505ec8bd"
      },
      "outputs": [
        {
          "output_type": "stream",
          "name": "stdout",
          "text": [
            "Accuracy : 0.9735\n"
          ]
        }
      ],
      "source": [
        "svc = SVC()\n",
        "svc.fit(train.drop('label',axis=1),train.label)\n",
        "svc_pred = svc.predict(dev.drop('label',axis=1))\n",
        "print(\"Accuracy : {}\".format(round(accuracy_score(dev.label,svc_pred),4)))"
      ]
    },
    {
      "cell_type": "markdown",
      "source": [
        "# Convolutional Neural Network"
      ],
      "metadata": {
        "id": "J29T6GU9IE8a"
      },
      "id": "J29T6GU9IE8a"
    },
    {
      "cell_type": "code",
      "execution_count": 27,
      "id": "992b46d1",
      "metadata": {
        "id": "992b46d1"
      },
      "outputs": [],
      "source": [
        "train_X = (np.array(train.drop('label',axis=1))/255).reshape(-1,28,28,1)\n",
        "dev_X = (np.array(dev.drop('label',axis=1))/255).reshape(-1,28,28,1)\n",
        "train_y = train.label.values.reshape(-1,1)\n",
        "dev_y = dev.label.values.reshape(-1,1)\n",
        "\n",
        "test = (np.array(test))/255.reshape(-1,28,28,1)"
      ]
    },
    {
      "cell_type": "code",
      "execution_count": 31,
      "id": "440e5f72",
      "metadata": {
        "id": "440e5f72"
      },
      "outputs": [],
      "source": [
        "model = models.Sequential()\n",
        "model.add(layers.RandomRotation(factor=0.05, fill_mode='constant'))  \n",
        "model.add(layers.RandomZoom(height_factor=(-0.2,0.2), width_factor=(-0.2,0.2), fill_mode='constant'))\n",
        "model.add(layers.Conv2D(32, (3, 3), activation='relu', padding = 'same',strides = 1, input_shape=(28, 28, 1)))\n",
        "model.add(layers.MaxPooling2D(2))\n",
        "model.add(layers.Dropout(0.2))\n",
        "model.add(layers.Conv2D(64, (3, 3), activation='relu', padding = 'same',strides = 1))\n",
        "model.add(layers.MaxPooling2D(2))\n",
        "model.add(layers.Dropout(0.2))\n",
        "model.add(layers.Flatten())\n",
        "model.add(layers.Dense(128,activation='relu'))\n",
        "model.add(layers.Dense(10,activation = 'softmax'))"
      ]
    },
    {
      "cell_type": "code",
      "source": [
        "early_stopping = callbacks.EarlyStopping(\n",
        "    monitor='val_loss',\n",
        "    patience=10,\n",
        "    restore_best_weights=True,\n",
        ")\n",
        "\n",
        "reduce_lr = callbacks.ReduceLROnPlateau(\n",
        "    monitor='val_loss',\n",
        "    factor=0.5,\n",
        "    patience=3\n",
        ")"
      ],
      "metadata": {
        "id": "54GBCMKbmUOp"
      },
      "id": "54GBCMKbmUOp",
      "execution_count": 37,
      "outputs": []
    },
    {
      "cell_type": "code",
      "execution_count": 38,
      "id": "5d6407f7",
      "metadata": {
        "colab": {
          "base_uri": "https://localhost:8080/"
        },
        "id": "5d6407f7",
        "outputId": "bed5610e-d177-48a7-ff6b-0f6bdf8bc1bd"
      },
      "outputs": [
        {
          "output_type": "stream",
          "name": "stdout",
          "text": [
            "Epoch 1/2000\n",
            "263/263 [==============================] - 44s 158ms/step - loss: 0.0343 - sparse_categorical_accuracy: 0.9886 - val_loss: 0.0283 - val_sparse_categorical_accuracy: 0.9910 - lr: 0.0010\n",
            "Epoch 2/2000\n",
            "263/263 [==============================] - 38s 146ms/step - loss: 0.0354 - sparse_categorical_accuracy: 0.9884 - val_loss: 0.0300 - val_sparse_categorical_accuracy: 0.9913 - lr: 0.0010\n",
            "Epoch 3/2000\n",
            "263/263 [==============================] - 38s 146ms/step - loss: 0.0354 - sparse_categorical_accuracy: 0.9894 - val_loss: 0.0293 - val_sparse_categorical_accuracy: 0.9901 - lr: 0.0010\n",
            "Epoch 4/2000\n",
            "263/263 [==============================] - 39s 147ms/step - loss: 0.0324 - sparse_categorical_accuracy: 0.9896 - val_loss: 0.0282 - val_sparse_categorical_accuracy: 0.9914 - lr: 0.0010\n",
            "Epoch 5/2000\n",
            "263/263 [==============================] - 39s 147ms/step - loss: 0.0241 - sparse_categorical_accuracy: 0.9925 - val_loss: 0.0233 - val_sparse_categorical_accuracy: 0.9933 - lr: 5.0000e-04\n",
            "Epoch 6/2000\n",
            "263/263 [==============================] - 41s 156ms/step - loss: 0.0234 - sparse_categorical_accuracy: 0.9922 - val_loss: 0.0257 - val_sparse_categorical_accuracy: 0.9923 - lr: 5.0000e-04\n",
            "Epoch 7/2000\n",
            "263/263 [==============================] - 38s 146ms/step - loss: 0.0226 - sparse_categorical_accuracy: 0.9927 - val_loss: 0.0272 - val_sparse_categorical_accuracy: 0.9921 - lr: 5.0000e-04\n",
            "Epoch 8/2000\n",
            "263/263 [==============================] - 38s 146ms/step - loss: 0.0210 - sparse_categorical_accuracy: 0.9934 - val_loss: 0.0258 - val_sparse_categorical_accuracy: 0.9931 - lr: 5.0000e-04\n",
            "Epoch 9/2000\n",
            "263/263 [==============================] - 38s 146ms/step - loss: 0.0170 - sparse_categorical_accuracy: 0.9943 - val_loss: 0.0228 - val_sparse_categorical_accuracy: 0.9935 - lr: 2.5000e-04\n",
            "Epoch 10/2000\n",
            "263/263 [==============================] - 39s 147ms/step - loss: 0.0170 - sparse_categorical_accuracy: 0.9947 - val_loss: 0.0236 - val_sparse_categorical_accuracy: 0.9926 - lr: 2.5000e-04\n",
            "Epoch 11/2000\n",
            "263/263 [==============================] - 39s 147ms/step - loss: 0.0165 - sparse_categorical_accuracy: 0.9949 - val_loss: 0.0241 - val_sparse_categorical_accuracy: 0.9931 - lr: 2.5000e-04\n",
            "Epoch 12/2000\n",
            "263/263 [==============================] - 38s 146ms/step - loss: 0.0156 - sparse_categorical_accuracy: 0.9951 - val_loss: 0.0238 - val_sparse_categorical_accuracy: 0.9927 - lr: 2.5000e-04\n",
            "Epoch 13/2000\n",
            "263/263 [==============================] - 39s 147ms/step - loss: 0.0148 - sparse_categorical_accuracy: 0.9949 - val_loss: 0.0234 - val_sparse_categorical_accuracy: 0.9935 - lr: 1.2500e-04\n",
            "Epoch 14/2000\n",
            "263/263 [==============================] - 39s 147ms/step - loss: 0.0146 - sparse_categorical_accuracy: 0.9953 - val_loss: 0.0237 - val_sparse_categorical_accuracy: 0.9932 - lr: 1.2500e-04\n",
            "Epoch 15/2000\n",
            "263/263 [==============================] - 38s 146ms/step - loss: 0.0143 - sparse_categorical_accuracy: 0.9950 - val_loss: 0.0233 - val_sparse_categorical_accuracy: 0.9932 - lr: 1.2500e-04\n",
            "Epoch 16/2000\n",
            "263/263 [==============================] - 38s 146ms/step - loss: 0.0121 - sparse_categorical_accuracy: 0.9963 - val_loss: 0.0228 - val_sparse_categorical_accuracy: 0.9933 - lr: 6.2500e-05\n",
            "Epoch 17/2000\n",
            "263/263 [==============================] - 38s 145ms/step - loss: 0.0126 - sparse_categorical_accuracy: 0.9957 - val_loss: 0.0224 - val_sparse_categorical_accuracy: 0.9936 - lr: 6.2500e-05\n",
            "Epoch 18/2000\n",
            "263/263 [==============================] - 38s 146ms/step - loss: 0.0138 - sparse_categorical_accuracy: 0.9957 - val_loss: 0.0230 - val_sparse_categorical_accuracy: 0.9931 - lr: 6.2500e-05\n",
            "Epoch 19/2000\n",
            "263/263 [==============================] - 38s 146ms/step - loss: 0.0124 - sparse_categorical_accuracy: 0.9958 - val_loss: 0.0235 - val_sparse_categorical_accuracy: 0.9935 - lr: 6.2500e-05\n",
            "Epoch 20/2000\n",
            "263/263 [==============================] - 38s 145ms/step - loss: 0.0124 - sparse_categorical_accuracy: 0.9962 - val_loss: 0.0229 - val_sparse_categorical_accuracy: 0.9939 - lr: 6.2500e-05\n",
            "Epoch 21/2000\n",
            "263/263 [==============================] - 38s 145ms/step - loss: 0.0119 - sparse_categorical_accuracy: 0.9965 - val_loss: 0.0233 - val_sparse_categorical_accuracy: 0.9939 - lr: 3.1250e-05\n",
            "Epoch 22/2000\n",
            "263/263 [==============================] - 38s 145ms/step - loss: 0.0125 - sparse_categorical_accuracy: 0.9958 - val_loss: 0.0231 - val_sparse_categorical_accuracy: 0.9936 - lr: 3.1250e-05\n",
            "Epoch 23/2000\n",
            "263/263 [==============================] - 38s 146ms/step - loss: 0.0124 - sparse_categorical_accuracy: 0.9962 - val_loss: 0.0231 - val_sparse_categorical_accuracy: 0.9938 - lr: 3.1250e-05\n",
            "Epoch 24/2000\n",
            "263/263 [==============================] - 38s 146ms/step - loss: 0.0127 - sparse_categorical_accuracy: 0.9960 - val_loss: 0.0229 - val_sparse_categorical_accuracy: 0.9942 - lr: 1.5625e-05\n",
            "Epoch 25/2000\n",
            "263/263 [==============================] - 38s 145ms/step - loss: 0.0123 - sparse_categorical_accuracy: 0.9961 - val_loss: 0.0233 - val_sparse_categorical_accuracy: 0.9940 - lr: 1.5625e-05\n",
            "Epoch 26/2000\n",
            "263/263 [==============================] - 38s 146ms/step - loss: 0.0112 - sparse_categorical_accuracy: 0.9963 - val_loss: 0.0231 - val_sparse_categorical_accuracy: 0.9936 - lr: 1.5625e-05\n",
            "Epoch 27/2000\n",
            "263/263 [==============================] - 38s 145ms/step - loss: 0.0113 - sparse_categorical_accuracy: 0.9964 - val_loss: 0.0230 - val_sparse_categorical_accuracy: 0.9939 - lr: 7.8125e-06\n"
          ]
        }
      ],
      "source": [
        "model.compile(loss='sparse_categorical_crossentropy', optimizer='adam', metrics=['sparse_categorical_accuracy'])\n",
        "history = model.fit(train_X,train_y,\n",
        "    validation_data=(dev_X,dev_y),\n",
        "    batch_size=128,\n",
        "    callbacks=[early_stopping, reduce_lr],\n",
        "    epochs=2000,\n",
        "    verbose=1)"
      ]
    },
    {
      "cell_type": "code",
      "source": [
        "cnn_pred = np.argmax(model.predict(test),axis = 1)"
      ],
      "metadata": {
        "id": "MEdhOeVncuNa"
      },
      "id": "MEdhOeVncuNa",
      "execution_count": 83,
      "outputs": []
    },
    {
      "cell_type": "code",
      "source": [
        "test_plot = pd.read_csv('test.csv')\n",
        "fig, ax = plt.subplots(nrows=1, ncols=4)\n",
        "for i in range(4):\n",
        "    ax[i].set_title(\"Number {}\".format(cnn_pred[i]))\n",
        "    ax[i].imshow(np.array(test_plot.loc[i][:]).reshape(28,28),cmap='gray')\n",
        "    ax[i].axis('off')\n",
        "fig.tight_layout(pad=0.0)\n",
        "plt.show()"
      ],
      "metadata": {
        "colab": {
          "base_uri": "https://localhost:8080/",
          "height": 155
        },
        "id": "rIKLtj1CaomR",
        "outputId": "68e14d95-ea7e-4a20-e0fd-d8c63ed3e693"
      },
      "id": "rIKLtj1CaomR",
      "execution_count": 84,
      "outputs": [
        {
          "output_type": "display_data",
          "data": {
            "text/plain": [
              "<Figure size 432x288 with 4 Axes>"
            ],
            "image/png": "[encoded data removed]"
          },
          "metadata": {
            "needs_background": "light"
          }
        }
      ]
    },
    {
      "cell_type": "code",
      "source": [
        "submission=pd.DataFrame(zip(list(range(1,len(cnn_pred)+1)),cnn_pred),columns=['ImageId','Label'])\n",
        "submission.to_csv('submission.csv',index = False)"
      ],
      "metadata": {
        "id": "WPp8Ck7Adu8y"
      },
      "id": "WPp8Ck7Adu8y",
      "execution_count": 94,
      "outputs": []
    }
  ],
  "metadata": {
    "kernelspec": {
      "display_name": "Python 3 (ipykernel)",
      "language": "python",
      "name": "python3"
    },
    "language_info": {
      "codemirror_mode": {
        "name": "ipython",
        "version": 3
      },
      "file_extension": ".py",
      "mimetype": "text/x-python",
      "name": "python",
      "nbconvert_exporter": "python",
      "pygments_lexer": "ipython3",
      "version": "3.8.10"
    },
    "colab": {
      "name": "Digit Recognizer.ipynb",
      "provenance": [],
      "collapsed_sections": []
    }
  },
  "nbformat": 4,
  "nbformat_minor": 5
}